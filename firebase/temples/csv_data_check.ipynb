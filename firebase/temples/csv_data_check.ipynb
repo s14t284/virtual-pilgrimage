{
 "cells": [
  {
   "cell_type": "markdown",
   "metadata": {},
   "source": [
    "# <center>firestoreにインポートするためのスクリプト</center>"
   ]
  },
  {
   "cell_type": "code",
   "execution_count": 1,
   "metadata": {},
   "outputs": [
    {
     "name": "stderr",
     "output_type": "stream",
     "text": [
      "/Users/msz/.pyenv/versions/3.8.7/lib/python3.8/site-packages/pandas/compat/__init__.py:97: UserWarning: Could not import the lzma module. Your installed Python is incomplete. Attempting to use lzma compression will result in a RuntimeError.\n",
      "  warnings.warn(msg)\n"
     ]
    }
   ],
   "source": [
    "# 使用するライブラリ\n",
    "import firebase_admin\n",
    "from firebase_admin import credentials\n",
    "from firebase_admin import firestore\n",
    "import pandas as pd\n",
    "from google.cloud.firestore import GeoPoint\n",
    "\n",
    "# firebaseに認証を行う\n",
    "cred = credentials.Certificate('virtual-pilgrimage-dev-firebase-adminsdk-fnt9u-dbd50504a7.json')\n",
    "app = firebase_admin.initialize_app(cred)\n",
    "# firestoreのデータベースにアクセスする\n",
    "db = firestore.client()"
   ]
  },
  {
   "cell_type": "code",
   "execution_count": 2,
   "metadata": {},
   "outputs": [
    {
     "data": {
      "text/plain": [
       "<google.cloud.firestore_v1.client.Client at 0x11493f6d0>"
      ]
     },
     "execution_count": 2,
     "metadata": {},
     "output_type": "execute_result"
    }
   ],
   "source": [
    "db"
   ]
  },
  {
   "cell_type": "code",
   "execution_count": 3,
   "metadata": {},
   "outputs": [],
   "source": [
    "# お寺の情報を読み込む\n",
    "df = pd.read_csv(\"temple_info_update.csv\",encoding=\"utf-8\")"
   ]
  },
  {
   "cell_type": "code",
   "execution_count": 32,
   "metadata": {},
   "outputs": [
    {
     "data": {
      "text/plain": [
       "Index(['Unnamed: 0', 'お遍路の番号', '名前', '名前（仮名）', '正式名称', '宗派', '本尊', '住所',\n",
       "       '緯度(北緯)', '経度(東経)', '電話番号', '徒歩距離[km]', '車での距離[km](使用道路)', '駐車可能台数',\n",
       "       '駐車場', '駐車場の位置', '車でのアクセス', 'JRでのアクセス', 'ホテル', 'トイレ', '徒歩距離(m)'],\n",
       "      dtype='object')"
      ]
     },
     "execution_count": 32,
     "metadata": {},
     "output_type": "execute_result"
    }
   ],
   "source": [
    "# データの確認\n",
    "df.columns"
   ]
  },
  {
   "cell_type": "markdown",
   "metadata": {},
   "source": [
    "### データの結びつけ\n",
    "- address:住所\n",
    "- distance:徒歩距離(m)\n",
    "- geoPoint:[緯度(北緯),経度(東経)]\n",
    "- id:お遍路の番号\n",
    "- images:\n",
    "- name:名前\n",
    "- prefecture:住所[:3]"
   ]
  },
  {
   "cell_type": "code",
   "execution_count": 18,
   "metadata": {},
   "outputs": [],
   "source": [
    "# 各種リストの作成\n",
    "address = df[\"住所\"].to_list()\n",
    "distance = df[\"徒歩距離(m)\"].to_list()\n",
    "geo_n = df[\"緯度(北緯)\"].to_list()\n",
    "geo_t = df[\"経度(東経)\"].to_list()\n",
    "id_list = df[\"お遍路の番号\"].to_list()\n",
    "name = df[\"名前\"].to_list()\n"
   ]
  },
  {
   "cell_type": "code",
   "execution_count": 14,
   "metadata": {},
   "outputs": [],
   "source": [
    "# geopointの作成\n",
    "geoPoint = []\n",
    "for n,t in zip(geo_n,geo_t):\n",
    "    geoPoint.append(GeoPoint(n,t))"
   ]
  },
  {
   "cell_type": "code",
   "execution_count": 15,
   "metadata": {},
   "outputs": [],
   "source": [
    "prefecture = [add[:3] for add in address]"
   ]
  },
  {
   "cell_type": "code",
   "execution_count": 17,
   "metadata": {},
   "outputs": [
    {
     "name": "stdout",
     "output_type": "stream",
     "text": [
      "88 88 88 88 88 88\n"
     ]
    }
   ],
   "source": [
    "# データ数が同じかを確認する\n",
    "print(len(address),len(distance),len(id_list),len(geoPoint),len(name),len(prefecture))"
   ]
  },
  {
   "cell_type": "code",
   "execution_count": null,
   "metadata": {},
   "outputs": [],
   "source": [
    "# imageのパスの例\n",
    "# https://firebasestorage.googleapis.com/v0/b/virtual-pilgrimage-dev.appspot.com/o/temples%2F1%2F1.jpg?alt=media&token=6fe4c2ed-b204-4837-9c56-3b72f24e1186"
   ]
  },
  {
   "cell_type": "code",
   "execution_count": 28,
   "metadata": {},
   "outputs": [],
   "source": [
    "image_list = []\n",
    "for id_ in id_list:\n",
    "    image_path = \"https://firebasestorage.googleapis.com/v0/b/virtual-pilgrimage-dev.appspot.com/o/temples%2F\"+str(id_)+\"%2F1.jpg?alt=media&token=6fe4c2ed-b204-4837-9c56-3b72f24e1186\"\n",
    "    image_list.append([image_path])"
   ]
  },
  {
   "cell_type": "code",
   "execution_count": 29,
   "metadata": {},
   "outputs": [
    {
     "data": {
      "text/plain": [
       "[['https://firebasestorage.googleapis.com/v0/b/virtual-pilgrimage-dev.appspot.com/o/temples%2F1%2F1.jpg?alt=media&token=6fe4c2ed-b204-4837-9c56-3b72f24e1186'],\n",
       " ['https://firebasestorage.googleapis.com/v0/b/virtual-pilgrimage-dev.appspot.com/o/temples%2F2%2F1.jpg?alt=media&token=6fe4c2ed-b204-4837-9c56-3b72f24e1186'],\n",
       " ['https://firebasestorage.googleapis.com/v0/b/virtual-pilgrimage-dev.appspot.com/o/temples%2F3%2F1.jpg?alt=media&token=6fe4c2ed-b204-4837-9c56-3b72f24e1186'],\n",
       " ['https://firebasestorage.googleapis.com/v0/b/virtual-pilgrimage-dev.appspot.com/o/temples%2F4%2F1.jpg?alt=media&token=6fe4c2ed-b204-4837-9c56-3b72f24e1186'],\n",
       " ['https://firebasestorage.googleapis.com/v0/b/virtual-pilgrimage-dev.appspot.com/o/temples%2F5%2F1.jpg?alt=media&token=6fe4c2ed-b204-4837-9c56-3b72f24e1186'],\n",
       " ['https://firebasestorage.googleapis.com/v0/b/virtual-pilgrimage-dev.appspot.com/o/temples%2F6%2F1.jpg?alt=media&token=6fe4c2ed-b204-4837-9c56-3b72f24e1186'],\n",
       " ['https://firebasestorage.googleapis.com/v0/b/virtual-pilgrimage-dev.appspot.com/o/temples%2F7%2F1.jpg?alt=media&token=6fe4c2ed-b204-4837-9c56-3b72f24e1186'],\n",
       " ['https://firebasestorage.googleapis.com/v0/b/virtual-pilgrimage-dev.appspot.com/o/temples%2F8%2F1.jpg?alt=media&token=6fe4c2ed-b204-4837-9c56-3b72f24e1186'],\n",
       " ['https://firebasestorage.googleapis.com/v0/b/virtual-pilgrimage-dev.appspot.com/o/temples%2F9%2F1.jpg?alt=media&token=6fe4c2ed-b204-4837-9c56-3b72f24e1186'],\n",
       " ['https://firebasestorage.googleapis.com/v0/b/virtual-pilgrimage-dev.appspot.com/o/temples%2F10%2F1.jpg?alt=media&token=6fe4c2ed-b204-4837-9c56-3b72f24e1186'],\n",
       " ['https://firebasestorage.googleapis.com/v0/b/virtual-pilgrimage-dev.appspot.com/o/temples%2F11%2F1.jpg?alt=media&token=6fe4c2ed-b204-4837-9c56-3b72f24e1186'],\n",
       " ['https://firebasestorage.googleapis.com/v0/b/virtual-pilgrimage-dev.appspot.com/o/temples%2F12%2F1.jpg?alt=media&token=6fe4c2ed-b204-4837-9c56-3b72f24e1186'],\n",
       " ['https://firebasestorage.googleapis.com/v0/b/virtual-pilgrimage-dev.appspot.com/o/temples%2F13%2F1.jpg?alt=media&token=6fe4c2ed-b204-4837-9c56-3b72f24e1186'],\n",
       " ['https://firebasestorage.googleapis.com/v0/b/virtual-pilgrimage-dev.appspot.com/o/temples%2F14%2F1.jpg?alt=media&token=6fe4c2ed-b204-4837-9c56-3b72f24e1186'],\n",
       " ['https://firebasestorage.googleapis.com/v0/b/virtual-pilgrimage-dev.appspot.com/o/temples%2F15%2F1.jpg?alt=media&token=6fe4c2ed-b204-4837-9c56-3b72f24e1186'],\n",
       " ['https://firebasestorage.googleapis.com/v0/b/virtual-pilgrimage-dev.appspot.com/o/temples%2F16%2F1.jpg?alt=media&token=6fe4c2ed-b204-4837-9c56-3b72f24e1186'],\n",
       " ['https://firebasestorage.googleapis.com/v0/b/virtual-pilgrimage-dev.appspot.com/o/temples%2F17%2F1.jpg?alt=media&token=6fe4c2ed-b204-4837-9c56-3b72f24e1186'],\n",
       " ['https://firebasestorage.googleapis.com/v0/b/virtual-pilgrimage-dev.appspot.com/o/temples%2F18%2F1.jpg?alt=media&token=6fe4c2ed-b204-4837-9c56-3b72f24e1186'],\n",
       " ['https://firebasestorage.googleapis.com/v0/b/virtual-pilgrimage-dev.appspot.com/o/temples%2F19%2F1.jpg?alt=media&token=6fe4c2ed-b204-4837-9c56-3b72f24e1186'],\n",
       " ['https://firebasestorage.googleapis.com/v0/b/virtual-pilgrimage-dev.appspot.com/o/temples%2F20%2F1.jpg?alt=media&token=6fe4c2ed-b204-4837-9c56-3b72f24e1186'],\n",
       " ['https://firebasestorage.googleapis.com/v0/b/virtual-pilgrimage-dev.appspot.com/o/temples%2F21%2F1.jpg?alt=media&token=6fe4c2ed-b204-4837-9c56-3b72f24e1186'],\n",
       " ['https://firebasestorage.googleapis.com/v0/b/virtual-pilgrimage-dev.appspot.com/o/temples%2F22%2F1.jpg?alt=media&token=6fe4c2ed-b204-4837-9c56-3b72f24e1186'],\n",
       " ['https://firebasestorage.googleapis.com/v0/b/virtual-pilgrimage-dev.appspot.com/o/temples%2F23%2F1.jpg?alt=media&token=6fe4c2ed-b204-4837-9c56-3b72f24e1186'],\n",
       " ['https://firebasestorage.googleapis.com/v0/b/virtual-pilgrimage-dev.appspot.com/o/temples%2F24%2F1.jpg?alt=media&token=6fe4c2ed-b204-4837-9c56-3b72f24e1186'],\n",
       " ['https://firebasestorage.googleapis.com/v0/b/virtual-pilgrimage-dev.appspot.com/o/temples%2F25%2F1.jpg?alt=media&token=6fe4c2ed-b204-4837-9c56-3b72f24e1186'],\n",
       " ['https://firebasestorage.googleapis.com/v0/b/virtual-pilgrimage-dev.appspot.com/o/temples%2F26%2F1.jpg?alt=media&token=6fe4c2ed-b204-4837-9c56-3b72f24e1186'],\n",
       " ['https://firebasestorage.googleapis.com/v0/b/virtual-pilgrimage-dev.appspot.com/o/temples%2F27%2F1.jpg?alt=media&token=6fe4c2ed-b204-4837-9c56-3b72f24e1186'],\n",
       " ['https://firebasestorage.googleapis.com/v0/b/virtual-pilgrimage-dev.appspot.com/o/temples%2F28%2F1.jpg?alt=media&token=6fe4c2ed-b204-4837-9c56-3b72f24e1186'],\n",
       " ['https://firebasestorage.googleapis.com/v0/b/virtual-pilgrimage-dev.appspot.com/o/temples%2F29%2F1.jpg?alt=media&token=6fe4c2ed-b204-4837-9c56-3b72f24e1186'],\n",
       " ['https://firebasestorage.googleapis.com/v0/b/virtual-pilgrimage-dev.appspot.com/o/temples%2F30%2F1.jpg?alt=media&token=6fe4c2ed-b204-4837-9c56-3b72f24e1186'],\n",
       " ['https://firebasestorage.googleapis.com/v0/b/virtual-pilgrimage-dev.appspot.com/o/temples%2F31%2F1.jpg?alt=media&token=6fe4c2ed-b204-4837-9c56-3b72f24e1186'],\n",
       " ['https://firebasestorage.googleapis.com/v0/b/virtual-pilgrimage-dev.appspot.com/o/temples%2F32%2F1.jpg?alt=media&token=6fe4c2ed-b204-4837-9c56-3b72f24e1186'],\n",
       " ['https://firebasestorage.googleapis.com/v0/b/virtual-pilgrimage-dev.appspot.com/o/temples%2F33%2F1.jpg?alt=media&token=6fe4c2ed-b204-4837-9c56-3b72f24e1186'],\n",
       " ['https://firebasestorage.googleapis.com/v0/b/virtual-pilgrimage-dev.appspot.com/o/temples%2F34%2F1.jpg?alt=media&token=6fe4c2ed-b204-4837-9c56-3b72f24e1186'],\n",
       " ['https://firebasestorage.googleapis.com/v0/b/virtual-pilgrimage-dev.appspot.com/o/temples%2F35%2F1.jpg?alt=media&token=6fe4c2ed-b204-4837-9c56-3b72f24e1186'],\n",
       " ['https://firebasestorage.googleapis.com/v0/b/virtual-pilgrimage-dev.appspot.com/o/temples%2F36%2F1.jpg?alt=media&token=6fe4c2ed-b204-4837-9c56-3b72f24e1186'],\n",
       " ['https://firebasestorage.googleapis.com/v0/b/virtual-pilgrimage-dev.appspot.com/o/temples%2F37%2F1.jpg?alt=media&token=6fe4c2ed-b204-4837-9c56-3b72f24e1186'],\n",
       " ['https://firebasestorage.googleapis.com/v0/b/virtual-pilgrimage-dev.appspot.com/o/temples%2F38%2F1.jpg?alt=media&token=6fe4c2ed-b204-4837-9c56-3b72f24e1186'],\n",
       " ['https://firebasestorage.googleapis.com/v0/b/virtual-pilgrimage-dev.appspot.com/o/temples%2F39%2F1.jpg?alt=media&token=6fe4c2ed-b204-4837-9c56-3b72f24e1186'],\n",
       " ['https://firebasestorage.googleapis.com/v0/b/virtual-pilgrimage-dev.appspot.com/o/temples%2F40%2F1.jpg?alt=media&token=6fe4c2ed-b204-4837-9c56-3b72f24e1186'],\n",
       " ['https://firebasestorage.googleapis.com/v0/b/virtual-pilgrimage-dev.appspot.com/o/temples%2F41%2F1.jpg?alt=media&token=6fe4c2ed-b204-4837-9c56-3b72f24e1186'],\n",
       " ['https://firebasestorage.googleapis.com/v0/b/virtual-pilgrimage-dev.appspot.com/o/temples%2F42%2F1.jpg?alt=media&token=6fe4c2ed-b204-4837-9c56-3b72f24e1186'],\n",
       " ['https://firebasestorage.googleapis.com/v0/b/virtual-pilgrimage-dev.appspot.com/o/temples%2F43%2F1.jpg?alt=media&token=6fe4c2ed-b204-4837-9c56-3b72f24e1186'],\n",
       " ['https://firebasestorage.googleapis.com/v0/b/virtual-pilgrimage-dev.appspot.com/o/temples%2F44%2F1.jpg?alt=media&token=6fe4c2ed-b204-4837-9c56-3b72f24e1186'],\n",
       " ['https://firebasestorage.googleapis.com/v0/b/virtual-pilgrimage-dev.appspot.com/o/temples%2F45%2F1.jpg?alt=media&token=6fe4c2ed-b204-4837-9c56-3b72f24e1186'],\n",
       " ['https://firebasestorage.googleapis.com/v0/b/virtual-pilgrimage-dev.appspot.com/o/temples%2F46%2F1.jpg?alt=media&token=6fe4c2ed-b204-4837-9c56-3b72f24e1186'],\n",
       " ['https://firebasestorage.googleapis.com/v0/b/virtual-pilgrimage-dev.appspot.com/o/temples%2F47%2F1.jpg?alt=media&token=6fe4c2ed-b204-4837-9c56-3b72f24e1186'],\n",
       " ['https://firebasestorage.googleapis.com/v0/b/virtual-pilgrimage-dev.appspot.com/o/temples%2F48%2F1.jpg?alt=media&token=6fe4c2ed-b204-4837-9c56-3b72f24e1186'],\n",
       " ['https://firebasestorage.googleapis.com/v0/b/virtual-pilgrimage-dev.appspot.com/o/temples%2F49%2F1.jpg?alt=media&token=6fe4c2ed-b204-4837-9c56-3b72f24e1186'],\n",
       " ['https://firebasestorage.googleapis.com/v0/b/virtual-pilgrimage-dev.appspot.com/o/temples%2F50%2F1.jpg?alt=media&token=6fe4c2ed-b204-4837-9c56-3b72f24e1186'],\n",
       " ['https://firebasestorage.googleapis.com/v0/b/virtual-pilgrimage-dev.appspot.com/o/temples%2F51%2F1.jpg?alt=media&token=6fe4c2ed-b204-4837-9c56-3b72f24e1186'],\n",
       " ['https://firebasestorage.googleapis.com/v0/b/virtual-pilgrimage-dev.appspot.com/o/temples%2F52%2F1.jpg?alt=media&token=6fe4c2ed-b204-4837-9c56-3b72f24e1186'],\n",
       " ['https://firebasestorage.googleapis.com/v0/b/virtual-pilgrimage-dev.appspot.com/o/temples%2F53%2F1.jpg?alt=media&token=6fe4c2ed-b204-4837-9c56-3b72f24e1186'],\n",
       " ['https://firebasestorage.googleapis.com/v0/b/virtual-pilgrimage-dev.appspot.com/o/temples%2F54%2F1.jpg?alt=media&token=6fe4c2ed-b204-4837-9c56-3b72f24e1186'],\n",
       " ['https://firebasestorage.googleapis.com/v0/b/virtual-pilgrimage-dev.appspot.com/o/temples%2F55%2F1.jpg?alt=media&token=6fe4c2ed-b204-4837-9c56-3b72f24e1186'],\n",
       " ['https://firebasestorage.googleapis.com/v0/b/virtual-pilgrimage-dev.appspot.com/o/temples%2F56%2F1.jpg?alt=media&token=6fe4c2ed-b204-4837-9c56-3b72f24e1186'],\n",
       " ['https://firebasestorage.googleapis.com/v0/b/virtual-pilgrimage-dev.appspot.com/o/temples%2F57%2F1.jpg?alt=media&token=6fe4c2ed-b204-4837-9c56-3b72f24e1186'],\n",
       " ['https://firebasestorage.googleapis.com/v0/b/virtual-pilgrimage-dev.appspot.com/o/temples%2F58%2F1.jpg?alt=media&token=6fe4c2ed-b204-4837-9c56-3b72f24e1186'],\n",
       " ['https://firebasestorage.googleapis.com/v0/b/virtual-pilgrimage-dev.appspot.com/o/temples%2F59%2F1.jpg?alt=media&token=6fe4c2ed-b204-4837-9c56-3b72f24e1186'],\n",
       " ['https://firebasestorage.googleapis.com/v0/b/virtual-pilgrimage-dev.appspot.com/o/temples%2F60%2F1.jpg?alt=media&token=6fe4c2ed-b204-4837-9c56-3b72f24e1186'],\n",
       " ['https://firebasestorage.googleapis.com/v0/b/virtual-pilgrimage-dev.appspot.com/o/temples%2F61%2F1.jpg?alt=media&token=6fe4c2ed-b204-4837-9c56-3b72f24e1186'],\n",
       " ['https://firebasestorage.googleapis.com/v0/b/virtual-pilgrimage-dev.appspot.com/o/temples%2F62%2F1.jpg?alt=media&token=6fe4c2ed-b204-4837-9c56-3b72f24e1186'],\n",
       " ['https://firebasestorage.googleapis.com/v0/b/virtual-pilgrimage-dev.appspot.com/o/temples%2F63%2F1.jpg?alt=media&token=6fe4c2ed-b204-4837-9c56-3b72f24e1186'],\n",
       " ['https://firebasestorage.googleapis.com/v0/b/virtual-pilgrimage-dev.appspot.com/o/temples%2F64%2F1.jpg?alt=media&token=6fe4c2ed-b204-4837-9c56-3b72f24e1186'],\n",
       " ['https://firebasestorage.googleapis.com/v0/b/virtual-pilgrimage-dev.appspot.com/o/temples%2F65%2F1.jpg?alt=media&token=6fe4c2ed-b204-4837-9c56-3b72f24e1186'],\n",
       " ['https://firebasestorage.googleapis.com/v0/b/virtual-pilgrimage-dev.appspot.com/o/temples%2F66%2F1.jpg?alt=media&token=6fe4c2ed-b204-4837-9c56-3b72f24e1186'],\n",
       " ['https://firebasestorage.googleapis.com/v0/b/virtual-pilgrimage-dev.appspot.com/o/temples%2F67%2F1.jpg?alt=media&token=6fe4c2ed-b204-4837-9c56-3b72f24e1186'],\n",
       " ['https://firebasestorage.googleapis.com/v0/b/virtual-pilgrimage-dev.appspot.com/o/temples%2F68%2F1.jpg?alt=media&token=6fe4c2ed-b204-4837-9c56-3b72f24e1186'],\n",
       " ['https://firebasestorage.googleapis.com/v0/b/virtual-pilgrimage-dev.appspot.com/o/temples%2F69%2F1.jpg?alt=media&token=6fe4c2ed-b204-4837-9c56-3b72f24e1186'],\n",
       " ['https://firebasestorage.googleapis.com/v0/b/virtual-pilgrimage-dev.appspot.com/o/temples%2F70%2F1.jpg?alt=media&token=6fe4c2ed-b204-4837-9c56-3b72f24e1186'],\n",
       " ['https://firebasestorage.googleapis.com/v0/b/virtual-pilgrimage-dev.appspot.com/o/temples%2F71%2F1.jpg?alt=media&token=6fe4c2ed-b204-4837-9c56-3b72f24e1186'],\n",
       " ['https://firebasestorage.googleapis.com/v0/b/virtual-pilgrimage-dev.appspot.com/o/temples%2F72%2F1.jpg?alt=media&token=6fe4c2ed-b204-4837-9c56-3b72f24e1186'],\n",
       " ['https://firebasestorage.googleapis.com/v0/b/virtual-pilgrimage-dev.appspot.com/o/temples%2F73%2F1.jpg?alt=media&token=6fe4c2ed-b204-4837-9c56-3b72f24e1186'],\n",
       " ['https://firebasestorage.googleapis.com/v0/b/virtual-pilgrimage-dev.appspot.com/o/temples%2F74%2F1.jpg?alt=media&token=6fe4c2ed-b204-4837-9c56-3b72f24e1186'],\n",
       " ['https://firebasestorage.googleapis.com/v0/b/virtual-pilgrimage-dev.appspot.com/o/temples%2F75%2F1.jpg?alt=media&token=6fe4c2ed-b204-4837-9c56-3b72f24e1186'],\n",
       " ['https://firebasestorage.googleapis.com/v0/b/virtual-pilgrimage-dev.appspot.com/o/temples%2F76%2F1.jpg?alt=media&token=6fe4c2ed-b204-4837-9c56-3b72f24e1186'],\n",
       " ['https://firebasestorage.googleapis.com/v0/b/virtual-pilgrimage-dev.appspot.com/o/temples%2F77%2F1.jpg?alt=media&token=6fe4c2ed-b204-4837-9c56-3b72f24e1186'],\n",
       " ['https://firebasestorage.googleapis.com/v0/b/virtual-pilgrimage-dev.appspot.com/o/temples%2F78%2F1.jpg?alt=media&token=6fe4c2ed-b204-4837-9c56-3b72f24e1186'],\n",
       " ['https://firebasestorage.googleapis.com/v0/b/virtual-pilgrimage-dev.appspot.com/o/temples%2F79%2F1.jpg?alt=media&token=6fe4c2ed-b204-4837-9c56-3b72f24e1186'],\n",
       " ['https://firebasestorage.googleapis.com/v0/b/virtual-pilgrimage-dev.appspot.com/o/temples%2F80%2F1.jpg?alt=media&token=6fe4c2ed-b204-4837-9c56-3b72f24e1186'],\n",
       " ['https://firebasestorage.googleapis.com/v0/b/virtual-pilgrimage-dev.appspot.com/o/temples%2F81%2F1.jpg?alt=media&token=6fe4c2ed-b204-4837-9c56-3b72f24e1186'],\n",
       " ['https://firebasestorage.googleapis.com/v0/b/virtual-pilgrimage-dev.appspot.com/o/temples%2F82%2F1.jpg?alt=media&token=6fe4c2ed-b204-4837-9c56-3b72f24e1186'],\n",
       " ['https://firebasestorage.googleapis.com/v0/b/virtual-pilgrimage-dev.appspot.com/o/temples%2F83%2F1.jpg?alt=media&token=6fe4c2ed-b204-4837-9c56-3b72f24e1186'],\n",
       " ['https://firebasestorage.googleapis.com/v0/b/virtual-pilgrimage-dev.appspot.com/o/temples%2F84%2F1.jpg?alt=media&token=6fe4c2ed-b204-4837-9c56-3b72f24e1186'],\n",
       " ['https://firebasestorage.googleapis.com/v0/b/virtual-pilgrimage-dev.appspot.com/o/temples%2F85%2F1.jpg?alt=media&token=6fe4c2ed-b204-4837-9c56-3b72f24e1186'],\n",
       " ['https://firebasestorage.googleapis.com/v0/b/virtual-pilgrimage-dev.appspot.com/o/temples%2F86%2F1.jpg?alt=media&token=6fe4c2ed-b204-4837-9c56-3b72f24e1186'],\n",
       " ['https://firebasestorage.googleapis.com/v0/b/virtual-pilgrimage-dev.appspot.com/o/temples%2F87%2F1.jpg?alt=media&token=6fe4c2ed-b204-4837-9c56-3b72f24e1186'],\n",
       " ['https://firebasestorage.googleapis.com/v0/b/virtual-pilgrimage-dev.appspot.com/o/temples%2F88%2F1.jpg?alt=media&token=6fe4c2ed-b204-4837-9c56-3b72f24e1186']]"
      ]
     },
     "execution_count": 29,
     "metadata": {},
     "output_type": "execute_result"
    }
   ],
   "source": [
    "image_list"
   ]
  },
  {
   "cell_type": "code",
   "execution_count": 30,
   "metadata": {},
   "outputs": [],
   "source": [
    "# データの書き込み\n",
    "\"\"\"\n",
    "データの結びつけ\n",
    "- address:住所\n",
    "- distance:徒歩距離(m)\n",
    "- geoPoint:[緯度(北緯),経度(東経)]\n",
    "- id:お遍路の番号\n",
    "- images:\n",
    "- name:名前\n",
    "- prefecture:住所[:3]\n",
    "\"\"\"\n",
    "for i,id_ in enumerate(id_list):\n",
    "    ref = db.collection(u'temples').document(str(id_))\n",
    "    ref.set({\n",
    "        u'address':address[i],\n",
    "        u'distance':distance[i],\n",
    "        u'geoPoint':geoPoint[i],\n",
    "        u'id':id_,\n",
    "        u'images':image_list[i],\n",
    "        u'name':name[i],\n",
    "        u'prefecture':prefecture[i]\n",
    "    })"
   ]
  },
  {
   "cell_type": "code",
   "execution_count": 21,
   "metadata": {},
   "outputs": [],
   "source": []
  },
  {
   "cell_type": "code",
   "execution_count": null,
   "metadata": {},
   "outputs": [],
   "source": []
  }
 ],
 "metadata": {
  "kernelspec": {
   "display_name": "Python 3.8.7 64-bit ('3.8.7')",
   "language": "python",
   "name": "python3"
  },
  "language_info": {
   "codemirror_mode": {
    "name": "ipython",
    "version": 3
   },
   "file_extension": ".py",
   "mimetype": "text/x-python",
   "name": "python",
   "nbconvert_exporter": "python",
   "pygments_lexer": "ipython3",
   "version": "3.8.7"
  },
  "orig_nbformat": 4,
  "vscode": {
   "interpreter": {
    "hash": "8911b5259dbd0d8efc3a898771700f5079b7f4dde0a0fd81fa26f998601e80ea"
   }
  }
 },
 "nbformat": 4,
 "nbformat_minor": 2
}
